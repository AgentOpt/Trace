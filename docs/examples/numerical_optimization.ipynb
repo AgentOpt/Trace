{
 "cells": [
  {
   "cell_type": "markdown",
   "metadata": {},
   "source": [
    "# Numerical Optimization: Traffic Optimization with Trace\n",
    "\n",
    "## Introduction\n",
    "\n",
    "This tutorial will guide you through the process of using `trace` to optimize parameters in a traffic simulation. The goal is to find the optimal green light durations for an intersection to minimize overall traffic delay.\n",
    "\n",
    "## Setup and Installation\n",
    "\n",
    "First, ensure you have the required packages installed in addition to `trace`. You can install them using pip.\n",
    "\n",
    "    !pip install numpy uxsim\n",
    "\n",
    "## Import Necessary Libraries\n",
    "\n",
    "Let's start by importing the necessary libraries."
   ]
  },
  {
   "cell_type": "code",
   "execution_count": null,
   "metadata": {},
   "outputs": [],
   "source": [
    "import numpy as np\n",
    "import uxsim as ux\n",
    "import itertools\n",
    "import opto.trace as trace\n",
    "from opto.trace.optimizers import FunctionOptimizerV2Memory\n",
    "from opto.trace.bundle import ExceptionNode"
   ]
  },
  {
   "cell_type": "markdown",
   "metadata": {},
   "source": [
    "## Define Constants and Functions\n",
    "\n",
    "We define the constants and helper functions needed for the simulation."
   ]
  },
  {
   "cell_type": "code",
   "execution_count": null,
   "metadata": {},
   "outputs": [],
   "source": [
    "# Define minimum and maximum values for green light durations (parameter space)\n",
    "MIN_GREEN_TIME = 15\n",
    "MAX_GREEN_TIME = 90\n",
    "\n",
    "# Define the simulation parameters (in seconds)\n",
    "MAX_DURATION = 1800\n",
    "SIMULATION_STEP = 6\n",
    "\n",
    "# Define the demands\n",
    "def create_demand(seed, demand=0.25):\n",
    "    np.random.seed(seed)\n",
    "    demandDict = {}\n",
    "    for n1, n2 in itertools.permutations([\"W1\", \"E1\", \"N1\", \"S1\"], 2):\n",
    "        for t in range(0, MAX_DURATION, SIMULATION_STEP):\n",
    "            demandDict[(n1, n2, t)] = np.random.uniform(0, demand)\n",
    "    # Add extra demand for E-W direction\n",
    "    for t in range(0, MAX_DURATION // 3, SIMULATION_STEP):\n",
    "        demandDict[(\"W1\", \"E1\", t)] += demand\n",
    "    for t in range(2 * MAX_DURATION // 3, MAX_DURATION, SIMULATION_STEP):\n",
    "        demandDict[(\"E1\", \"W1\", t)] += demand\n",
    "    return demandDict\n"
   ]
  },
  {
   "cell_type": "markdown",
   "metadata": {},
   "source": [
    "## Using bundle to wrap the Create World Function\n",
    "\n",
    "The create_world function sets up the traffic intersection with given green light durations.\n",
    "Let us wrap the function with `trace.bundle` to let the optimizer view the entire function as a node in the traced graph."
   ]
  },
  {
   "cell_type": "code",
   "execution_count": null,
   "metadata": {},
   "outputs": [],
   "source": [
    "@trace.bundle(trainable=False, allow_external_dependencies=True)\n",
    "def create_world(EW_time, NS_time):\n",
    "    global seed\n",
    "    global demand_dict\n",
    "\n",
    "    assert EW_time >= MIN_GREEN_TIME and EW_time <= MAX_GREEN_TIME, \"EW_time out of bounds.\"\n",
    "    assert NS_time >= MIN_GREEN_TIME and NS_time <= MAX_GREEN_TIME, \"NS_time out of bounds.\"\n",
    "\n",
    "    W = ux.World(\n",
    "        name=\"Grid World\",\n",
    "        deltan=1,\n",
    "        reaction_time=1,\n",
    "        tmax=MAX_DURATION,\n",
    "        print_mode=0,\n",
    "        save_mode=0,\n",
    "        show_mode=0,\n",
    "        random_seed=seed,\n",
    "        duo_update_time=120,\n",
    "        show_progress=0,\n",
    "        vehicle_logging_timestep_interval=-1,\n",
    "    )\n",
    "\n",
    "    W1 = W.addNode(\"W1\", -1, 0)\n",
    "    E1 = W.addNode(\"E1\", 1, 0)\n",
    "    N1 = W.addNode(\"N1\", 0, 1)\n",
    "    S1 = W.addNode(\"S1\", 0, -1)\n",
    "\n",
    "    for k, v in demand_dict.items():\n",
    "        n1, n2, t = k\n",
    "        node1 = eval(n1)\n",
    "        node2 = eval(n2)\n",
    "        W.adddemand(node1, node2, t, t + SIMULATION_STEP, v)\n",
    "\n",
    "    I1 = W.addNode(\"I1\", 0, 0, signal=[EW_time, NS_time])\n",
    "\n",
    "    for n1, n2 in [[W1, I1], [I1, E1]]:\n",
    "        W.addLink(n1.name + n2.name, n1, n2, length=500, free_flow_speed=10, jam_density=0.2, signal_group=0)\n",
    "        W.addLink(n2.name + n1.name, n2, n1, length=500, free_flow_speed=10, jam_density=0.2, signal_group=0)\n",
    "    for n1, n2 in [[N1, I1], [I1, S1]]:\n",
    "        W.addLink(n1.name + n2.name, n1, n2, length=500, free_flow_speed=10, jam_density=0.2, signal_group=1)\n",
    "        W.addLink(n2.name + n1.name, n2, n1, length=500, free_flow_speed=10, jam_density=0.2, signal_group=1)\n",
    "\n",
    "    return W\n"
   ]
  },
  {
   "cell_type": "markdown",
   "metadata": {},
   "source": [
    "## Analyze World Function\n",
    "\n",
    "Similar to the create_world function, the analyze_world function analyzes the traffic data after the simulation runs."
   ]
  },
  {
   "cell_type": "code",
   "execution_count": null,
   "metadata": {},
   "outputs": [],
   "source": [
    "@trace.bundle(trainable=False, allow_external_dependencies=True)\n",
    "def analyze_world(W):\n",
    "    assert not W.check_simulation_ongoing(), \"Simulation has not completed.\"\n",
    "\n",
    "    outputDict = {\"Avg. Delay\": W.analyzer.average_delay}\n",
    "    time_lost = 0\n",
    "    num_vehicles = 0\n",
    "\n",
    "    for k, v in W.analyzer.od_trips.items():\n",
    "        outputDict[k] = {\"Trips attempted\": v}\n",
    "        num_vehicles += v\n",
    "        outputDict[k][\"Trips completed\"] = W.analyzer.od_trips_comp[k]\n",
    "        theoretical_minimum = W.analyzer.od_tt_free[k]\n",
    "        observed_delay = np.sum(W.analyzer.od_tt[k] - theoretical_minimum)\n",
    "        imputed_delay = (np.max(W.analyzer.od_tt[k]) + 1 - theoretical_minimum) * (v - len(W.analyzer.od_tt))\n",
    "        time_lost += observed_delay + imputed_delay\n",
    "        outputDict[k][\"Time lost per vehicle\"] = (observed_delay + imputed_delay) / v\n",
    "\n",
    "    outputDict[\"Best-Case Estimated Delay\"] = time_lost / num_vehicles\n",
    "    variance = 0\n",
    "    for k, v in W.analyzer.od_trips.items():\n",
    "        variance += ((outputDict[k][\"Time lost per vehicle\"] - outputDict[\"Best-Case Estimated Delay\"]) ** 2) * v\n",
    "\n",
    "    score = outputDict[\"Best-Case Estimated Delay\"] + np.sqrt(variance / num_vehicles)\n",
    "    outputDict[\"OVERALL SCORE\"] = score\n",
    "\n",
    "    return outputDict"
   ]
  },
  {
   "cell_type": "markdown",
   "metadata": {},
   "source": [
    "## Run Approach Function\n",
    "\n",
    "This helper function runs the optimization approach, catching exceptions thrown if any as feedback to the `trace` optimizer."
   ]
  },
  {
   "cell_type": "code",
   "execution_count": null,
   "metadata": {},
   "outputs": [],
   "source": [
    "def run_approach(num_iter, trace_memory=0, trace_config=\"OAI_CONFIG_LIST\", rng=None):\n",
    "    W = None\n",
    "    return_val = np.zeros((num_iter, 3))\n",
    "    \n",
    "    def traffic_simulation(EW_green_time, NS_green_time):\n",
    "        W = None\n",
    "        try:\n",
    "            W = create_world(EW_green_time, NS_green_time)\n",
    "        except Exception as e:\n",
    "            e_node = ExceptionNode(\n",
    "                e,\n",
    "                inputs={\"EW_green_time\": EW_green_time, \"NS_green_time\": NS_green_time},\n",
    "                description=\"[exception] Simulation raises an exception with these inputs.\",\n",
    "                name=\"exception_step\",\n",
    "            )\n",
    "            return e_node\n",
    "        W.data.exec_simulation()\n",
    "        return_dict = analyze_world(W)\n",
    "        return return_dict\n",
    "\n",
    "    EW_x = trace.node(MIN_GREEN_TIME, trainable=True, constraint=f\"[{MIN_GREEN_TIME},{MAX_GREEN_TIME}]\")\n",
    "    NS_x = trace.node(MIN_GREEN_TIME, trainable=True, constraint=f\"[{MIN_GREEN_TIME},{MAX_GREEN_TIME}]\")\n",
    "    optimizer = FunctionOptimizerV2Memory(\n",
    "                [EW_x, NS_x], memory_size=trace_memory, config_list=config_list_from_json(trace_config)\n",
    "            )\n",
    "\n",
    "    optimizer.objective = (\n",
    "                \"You should suggest values for the variables so that the OVERALL SCORE is as small as possible.\\n\"\n",
    "                + \"There is a trade-off in setting the green light durations.\\n\"\n",
    "                + \"If the green light duration for a given direction is set too low, then vehicles will queue up over time and experience delays, thereby lowering the score for the intersection.\\n\"\n",
    "                + \"If the green light duration for a given direction is set too high, vehicles in the other direction will queue up and experience delays, thereby lowering the score for the intersection.\\n\"\n",
    "                + \"The goal is to find a balance for each direction (East-West and North-South) that minimizes the overall score of the intersection.\\n\"\n",
    "                + optimizer.default_objective\n",
    "        )\n",
    "\n",
    "    for i in range(num_iter):\n",
    "        result = traffic_simulation(EW_x, NS_x)\n",
    "        feedback = None\n",
    "        if isinstance(result, ExceptionNode):\n",
    "            return_val[i] = (EW_x.data, NS_x.data, np.inf)\n",
    "            feedback = result.data\n",
    "        else:\n",
    "            return_val[i] = (EW_x.data, NS_x.data, result.data[\"OVERALL SCORE\"])\n",
    "            feedback = (\n",
    "                \"OVERALL SCORE: \"\n",
    "                + str(result.data[\"OVERALL SCORE\"])\n",
    "                + \"\\nPlease try to optimize the intersection further. If you are certain that you have found the optimal solution, please suggest it again.\"\n",
    "            )\n",
    "\n",
    "        optimizer.zero_feedback()\n",
    "        optimizer.backward(result, feedback, visualize=True)\n",
    "        optimizer.step(verbose=True)\n",
    "    return return_val"
   ]
  },
  {
   "cell_type": "markdown",
   "metadata": {},
   "source": [
    "## Running the Notebook\n",
    "\n",
    "Now, you can run each cell of the notebook step-by-step to see how the simulation and optimization are performed. You can modify the parameters and observe the effects on the optimization process."
   ]
  },
  {
   "cell_type": "code",
   "execution_count": null,
   "metadata": {},
   "outputs": [],
   "source": [
    "demand_dict = create_demand(42, 0.25)\n",
    "returned_val = run_approach(100, 5)\n",
    "print(returned_val)"
   ]
  },
  {
   "cell_type": "markdown",
   "metadata": {},
   "source": [
    "This completes the tutorial on using the Trace package for numerical optimization in a traffic simulation. Happy optimizing!"
   ]
  }
 ],
 "metadata": {
  "kernelspec": {
   "display_name": "trace",
   "language": "python",
   "name": "python3"
  },
  "language_info": {
   "codemirror_mode": {
    "name": "ipython",
    "version": 3
   },
   "file_extension": ".py",
   "mimetype": "text/x-python",
   "name": "python",
   "nbconvert_exporter": "python",
   "pygments_lexer": "ipython3",
   "version": "3.12.3"
  }
 },
 "nbformat": 4,
 "nbformat_minor": 4
}
